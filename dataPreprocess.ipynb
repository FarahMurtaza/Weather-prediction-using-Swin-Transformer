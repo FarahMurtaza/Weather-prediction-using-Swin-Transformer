{
 "cells": [
  {
   "cell_type": "code",
   "execution_count": 44,
   "id": "b0b9dd12-1e89-4406-a22b-ea2ffa744bd7",
   "metadata": {},
   "outputs": [],
   "source": [
    "import xarray as xr\n",
    "import pandas as pd\n",
    "import netCDF4 as nc\n",
    "import tqdm\n",
    "import csv\n",
    "\n"
   ]
  },
  {
   "cell_type": "code",
   "execution_count": 45,
   "id": "b52e2fce-b385-4576-b96f-ba42eb30502c",
   "metadata": {},
   "outputs": [],
   "source": [
    "filePath = '../Dataset/climate_dataset/TempAir.nc'  \n",
    "dSet = nc.Dataset(filePath)  "
   ]
  },
  {
   "cell_type": "code",
   "execution_count": 46,
   "id": "bab89bee-aad4-4d93-a279-3e4eb3715e00",
   "metadata": {},
   "outputs": [
    {
     "name": "stdout",
     "output_type": "stream",
     "text": [
      "<class 'netCDF4._netCDF4.Dimension'>: name = 'time', size = 744\n",
      "<class 'netCDF4._netCDF4.Dimension'>: name = 'lon', size = 720\n",
      "<class 'netCDF4._netCDF4.Dimension'>: name = 'lat', size = 360\n"
     ]
    }
   ],
   "source": [
    "for dimension in dSet.dimensions.values():  \n",
    "    print(dimension)  "
   ]
  },
  {
   "cell_type": "code",
   "execution_count": 47,
   "id": "0ef02a4b",
   "metadata": {},
   "outputs": [
    {
     "name": "stderr",
     "output_type": "stream",
     "text": [
      "  0%|          | 0/6 [00:00<?, ?it/s]"
     ]
    },
    {
     "name": "stderr",
     "output_type": "stream",
     "text": [
      "100%|██████████| 6/6 [05:51<00:00, 58.63s/it]"
     ]
    },
    {
     "name": "stdout",
     "output_type": "stream",
     "text": [
      "Total Dataset Size: 192844800\n"
     ]
    },
    {
     "name": "stderr",
     "output_type": "stream",
     "text": [
      "\n"
     ]
    }
   ],
   "source": [
    "import netCDF4 as nc\n",
    "import csv\n",
    "import tqdm\n",
    "import xarray as xr\n",
    "\n",
    "ds = xr.open_dataset(\"../Dataset/climate_dataset/TempAir.nc\")\n",
    "nc_file = ds\n",
    "\n",
    "csv_file = open('output.csv', 'w', newline='')\n",
    "csv_writer = csv.writer(csv_file)\n",
    "\n",
    "time = nc_file.variables['time']\n",
    "lon = nc_file.variables['lon']\n",
    "lat = nc_file.variables['lat']\n",
    "csv_writer.writerow(['Time', 'Lon', 'Lat', 'Value'])\n",
    "\n",
    "data_variable = nc_file.variables['Tair']\n",
    "\n",
    "# Reduce the size of the 'time' dimension to 5\n",
    "time_indices = range(0, len(time), len(time)//5)\n",
    "\n",
    "for t in tqdm.tqdm(time_indices):\n",
    "    for lat_index in range(len(lat)):\n",
    "        for lon_index in range(len(lon)):\n",
    "            time_value = time[t]\n",
    "            lat_value = lat[lat_index]\n",
    "            lon_value = lon[lon_index]\n",
    "            data_value = data_variable[t, lat_index, lon_index]\n",
    "            csv_writer.writerow([time_value.values, lon_value.values, lat_value.values, data_value.values])\n",
    "\n",
    "\n",
    "csv_file.close()\n",
    "nc_file.close()\n",
    "\n"
   ]
  },
  {
   "cell_type": "code",
   "execution_count": 48,
   "id": "c2585092-cb5b-4e21-881c-e92fc7db3e0f",
   "metadata": {},
   "outputs": [],
   "source": [
    "df=pd.read_csv('output.csv')"
   ]
  },
  {
   "cell_type": "code",
   "execution_count": 50,
   "id": "c36dd73c-fd12-499c-9cae-0f462fe27094",
   "metadata": {},
   "outputs": [
    {
     "name": "stdout",
     "output_type": "stream",
     "text": [
      "<class 'pandas.core.frame.DataFrame'>\n",
      "RangeIndex: 1555200 entries, 0 to 1555199\n",
      "Data columns (total 4 columns):\n",
      " #   Column  Non-Null Count    Dtype  \n",
      "---  ------  --------------    -----  \n",
      " 0   Time    1555200 non-null  object \n",
      " 1   Lon     1555200 non-null  float64\n",
      " 2   Lat     1555200 non-null  float64\n",
      " 3   Value   557334 non-null   float64\n",
      "dtypes: float64(3), object(1)\n",
      "memory usage: 47.5+ MB\n"
     ]
    }
   ],
   "source": [
    "df.info()"
   ]
  },
  {
   "cell_type": "code",
   "execution_count": 51,
   "id": "2e316c0d-c0d4-404c-9c37-04128574e6e5",
   "metadata": {},
   "outputs": [],
   "source": [
    "train=df.drop(columns=['Time'])"
   ]
  },
  {
   "cell_type": "code",
   "execution_count": 52,
   "id": "960f3263-4918-4e81-ab83-e89d7fc6d936",
   "metadata": {},
   "outputs": [
    {
     "data": {
      "text/html": [
       "<div>\n",
       "<style scoped>\n",
       "    .dataframe tbody tr th:only-of-type {\n",
       "        vertical-align: middle;\n",
       "    }\n",
       "\n",
       "    .dataframe tbody tr th {\n",
       "        vertical-align: top;\n",
       "    }\n",
       "\n",
       "    .dataframe thead th {\n",
       "        text-align: right;\n",
       "    }\n",
       "</style>\n",
       "<table border=\"1\" class=\"dataframe\">\n",
       "  <thead>\n",
       "    <tr style=\"text-align: right;\">\n",
       "      <th></th>\n",
       "      <th>Lon</th>\n",
       "      <th>Lat</th>\n",
       "      <th>Value</th>\n",
       "    </tr>\n",
       "  </thead>\n",
       "  <tbody>\n",
       "    <tr>\n",
       "      <th>0</th>\n",
       "      <td>-179.75</td>\n",
       "      <td>-89.75</td>\n",
       "      <td>243.30138</td>\n",
       "    </tr>\n",
       "    <tr>\n",
       "      <th>1</th>\n",
       "      <td>-179.25</td>\n",
       "      <td>-89.75</td>\n",
       "      <td>243.30110</td>\n",
       "    </tr>\n",
       "    <tr>\n",
       "      <th>2</th>\n",
       "      <td>-178.75</td>\n",
       "      <td>-89.75</td>\n",
       "      <td>243.31395</td>\n",
       "    </tr>\n",
       "    <tr>\n",
       "      <th>3</th>\n",
       "      <td>-178.25</td>\n",
       "      <td>-89.75</td>\n",
       "      <td>243.31410</td>\n",
       "    </tr>\n",
       "    <tr>\n",
       "      <th>4</th>\n",
       "      <td>-177.75</td>\n",
       "      <td>-89.75</td>\n",
       "      <td>243.32626</td>\n",
       "    </tr>\n",
       "    <tr>\n",
       "      <th>...</th>\n",
       "      <td>...</td>\n",
       "      <td>...</td>\n",
       "      <td>...</td>\n",
       "    </tr>\n",
       "    <tr>\n",
       "      <th>1555195</th>\n",
       "      <td>177.75</td>\n",
       "      <td>89.75</td>\n",
       "      <td>NaN</td>\n",
       "    </tr>\n",
       "    <tr>\n",
       "      <th>1555196</th>\n",
       "      <td>178.25</td>\n",
       "      <td>89.75</td>\n",
       "      <td>NaN</td>\n",
       "    </tr>\n",
       "    <tr>\n",
       "      <th>1555197</th>\n",
       "      <td>178.75</td>\n",
       "      <td>89.75</td>\n",
       "      <td>NaN</td>\n",
       "    </tr>\n",
       "    <tr>\n",
       "      <th>1555198</th>\n",
       "      <td>179.25</td>\n",
       "      <td>89.75</td>\n",
       "      <td>NaN</td>\n",
       "    </tr>\n",
       "    <tr>\n",
       "      <th>1555199</th>\n",
       "      <td>179.75</td>\n",
       "      <td>89.75</td>\n",
       "      <td>NaN</td>\n",
       "    </tr>\n",
       "  </tbody>\n",
       "</table>\n",
       "<p>1555200 rows × 3 columns</p>\n",
       "</div>"
      ],
      "text/plain": [
       "            Lon    Lat      Value\n",
       "0       -179.75 -89.75  243.30138\n",
       "1       -179.25 -89.75  243.30110\n",
       "2       -178.75 -89.75  243.31395\n",
       "3       -178.25 -89.75  243.31410\n",
       "4       -177.75 -89.75  243.32626\n",
       "...         ...    ...        ...\n",
       "1555195  177.75  89.75        NaN\n",
       "1555196  178.25  89.75        NaN\n",
       "1555197  178.75  89.75        NaN\n",
       "1555198  179.25  89.75        NaN\n",
       "1555199  179.75  89.75        NaN\n",
       "\n",
       "[1555200 rows x 3 columns]"
      ]
     },
     "execution_count": 52,
     "metadata": {},
     "output_type": "execute_result"
    }
   ],
   "source": [
    "train"
   ]
  },
  {
   "cell_type": "code",
   "execution_count": 53,
   "id": "8fdcf96f-f00e-4838-bbbb-6016174d242c",
   "metadata": {},
   "outputs": [],
   "source": [
    "df['Time']=pd.to_datetime(df['Time'])\n"
   ]
  },
  {
   "cell_type": "code",
   "execution_count": 54,
   "id": "ac5d2e21-d140-41d2-bdf9-2a6a447f309e",
   "metadata": {},
   "outputs": [],
   "source": [
    "#!pip install sklearn==1.2.1"
   ]
  },
  {
   "cell_type": "code",
   "execution_count": 55,
   "id": "44211a25-3089-4781-9e41-c528f8f4d11b",
   "metadata": {},
   "outputs": [],
   "source": [
    "\n",
    "import sklearn.neighbors._base\n",
    "import sys\n",
    "sys.modules['sklearn.neighbors.base'] = sklearn.neighbors._base"
   ]
  },
  {
   "cell_type": "code",
   "execution_count": 56,
   "id": "0c20cc38-8621-40f9-a359-8bd6b32ddcce",
   "metadata": {},
   "outputs": [
    {
     "name": "stderr",
     "output_type": "stream",
     "text": [
      "/Users/farahmurtaza/Library/Python/3.9/lib/python/site-packages/sklearn/utils/validation.py:757: FutureWarning: is_sparse is deprecated and will be removed in a future version. Check `isinstance(dtype, pd.SparseDtype)` instead.\n",
      "  if not hasattr(array, \"sparse\") and array.dtypes.apply(is_sparse).any():\n",
      "/Users/farahmurtaza/Library/Python/3.9/lib/python/site-packages/sklearn/utils/validation.py:595: FutureWarning: is_sparse is deprecated and will be removed in a future version. Check `isinstance(dtype, pd.SparseDtype)` instead.\n",
      "  if is_sparse(pd_dtype):\n",
      "/Users/farahmurtaza/Library/Python/3.9/lib/python/site-packages/sklearn/utils/validation.py:604: FutureWarning: is_sparse is deprecated and will be removed in a future version. Check `isinstance(dtype, pd.SparseDtype)` instead.\n",
      "  if is_sparse(pd_dtype) or not is_extension_array_dtype(pd_dtype):\n",
      "/Users/farahmurtaza/Library/Python/3.9/lib/python/site-packages/sklearn/utils/validation.py:757: FutureWarning: is_sparse is deprecated and will be removed in a future version. Check `isinstance(dtype, pd.SparseDtype)` instead.\n",
      "  if not hasattr(array, \"sparse\") and array.dtypes.apply(is_sparse).any():\n",
      "/Users/farahmurtaza/Library/Python/3.9/lib/python/site-packages/sklearn/utils/validation.py:595: FutureWarning: is_sparse is deprecated and will be removed in a future version. Check `isinstance(dtype, pd.SparseDtype)` instead.\n",
      "  if is_sparse(pd_dtype):\n",
      "/Users/farahmurtaza/Library/Python/3.9/lib/python/site-packages/sklearn/utils/validation.py:604: FutureWarning: is_sparse is deprecated and will be removed in a future version. Check `isinstance(dtype, pd.SparseDtype)` instead.\n",
      "  if is_sparse(pd_dtype) or not is_extension_array_dtype(pd_dtype):\n",
      "/Users/farahmurtaza/Library/Python/3.9/lib/python/site-packages/sklearn/ensemble/_forest.py:400: FutureWarning: Criterion 'mse' was deprecated in v1.0 and will be removed in version 1.2. Use `criterion='squared_error'` which is equivalent.\n",
      "  warn(\n",
      "/Users/farahmurtaza/Library/Python/3.9/lib/python/site-packages/sklearn/ensemble/_forest.py:416: FutureWarning: `max_features='auto'` has been deprecated in 1.1 and will be removed in 1.3. To keep the past behaviour, explicitly set `max_features=1.0` or remove this parameter as it is also the default value for RandomForestRegressors and ExtraTreesRegressors.\n",
      "  warn(\n"
     ]
    },
    {
     "name": "stdout",
     "output_type": "stream",
     "text": [
      "Iteration: 0\n"
     ]
    },
    {
     "name": "stderr",
     "output_type": "stream",
     "text": [
      "/Users/farahmurtaza/Library/Python/3.9/lib/python/site-packages/sklearn/ensemble/_forest.py:400: FutureWarning: Criterion 'mse' was deprecated in v1.0 and will be removed in version 1.2. Use `criterion='squared_error'` which is equivalent.\n",
      "  warn(\n",
      "/Users/farahmurtaza/Library/Python/3.9/lib/python/site-packages/sklearn/ensemble/_forest.py:416: FutureWarning: `max_features='auto'` has been deprecated in 1.1 and will be removed in 1.3. To keep the past behaviour, explicitly set `max_features=1.0` or remove this parameter as it is also the default value for RandomForestRegressors and ExtraTreesRegressors.\n",
      "  warn(\n"
     ]
    },
    {
     "name": "stdout",
     "output_type": "stream",
     "text": [
      "Iteration: 1\n"
     ]
    },
    {
     "name": "stderr",
     "output_type": "stream",
     "text": [
      "/Users/farahmurtaza/Library/Python/3.9/lib/python/site-packages/sklearn/ensemble/_forest.py:400: FutureWarning: Criterion 'mse' was deprecated in v1.0 and will be removed in version 1.2. Use `criterion='squared_error'` which is equivalent.\n",
      "  warn(\n",
      "/Users/farahmurtaza/Library/Python/3.9/lib/python/site-packages/sklearn/ensemble/_forest.py:416: FutureWarning: `max_features='auto'` has been deprecated in 1.1 and will be removed in 1.3. To keep the past behaviour, explicitly set `max_features=1.0` or remove this parameter as it is also the default value for RandomForestRegressors and ExtraTreesRegressors.\n",
      "  warn(\n"
     ]
    },
    {
     "name": "stdout",
     "output_type": "stream",
     "text": [
      "Iteration: 2\n"
     ]
    }
   ],
   "source": [
    "from missingpy import MissForest\n",
    "imputer = MissForest(n_estimators=100, max_iter=10, n_jobs=-1)\n",
    "X_imputed = imputer.fit_transform(train)"
   ]
  },
  {
   "cell_type": "code",
   "execution_count": 57,
   "id": "6a479250",
   "metadata": {},
   "outputs": [],
   "source": [
    "from sklearn.preprocessing import StandardScaler"
   ]
  },
  {
   "cell_type": "code",
   "execution_count": 58,
   "id": "75167a37",
   "metadata": {},
   "outputs": [],
   "source": [
    "scaler = StandardScaler()\n",
    "\n",
    "scaled_data = scaler.fit_transform(X_imputed)"
   ]
  },
  {
   "cell_type": "code",
   "execution_count": 59,
   "id": "fefc227f-84fd-4e63-9e15-5f43d9b6ced9",
   "metadata": {},
   "outputs": [],
   "source": [
    "df_final_data=pd.DataFrame(scaled_data,columns=['Lon','Lat','Value'])"
   ]
  },
  {
   "cell_type": "code",
   "execution_count": 60,
   "id": "9703c812-d19f-4d86-87a0-0ed1a522d3eb",
   "metadata": {},
   "outputs": [
    {
     "name": "stdout",
     "output_type": "stream",
     "text": [
      "<class 'pandas.core.frame.DataFrame'>\n",
      "RangeIndex: 1555200 entries, 0 to 1555199\n",
      "Data columns (total 3 columns):\n",
      " #   Column  Non-Null Count    Dtype  \n",
      "---  ------  --------------    -----  \n",
      " 0   Lon     1555200 non-null  float64\n",
      " 1   Lat     1555200 non-null  float64\n",
      " 2   Value   1555200 non-null  float64\n",
      "dtypes: float64(3)\n",
      "memory usage: 35.6 MB\n"
     ]
    }
   ],
   "source": [
    "df_final_data.info()"
   ]
  },
  {
   "cell_type": "code",
   "execution_count": 61,
   "id": "34c172ca-fe35-4511-8450-0abbb46dac5e",
   "metadata": {},
   "outputs": [],
   "source": [
    "df_final_data['Time']=df['Time']"
   ]
  },
  {
   "cell_type": "code",
   "execution_count": 62,
   "id": "5de9610a-5a37-44c7-b412-0217afc4ef18",
   "metadata": {},
   "outputs": [
    {
     "data": {
      "text/html": [
       "<div>\n",
       "<style scoped>\n",
       "    .dataframe tbody tr th:only-of-type {\n",
       "        vertical-align: middle;\n",
       "    }\n",
       "\n",
       "    .dataframe tbody tr th {\n",
       "        vertical-align: top;\n",
       "    }\n",
       "\n",
       "    .dataframe thead th {\n",
       "        text-align: right;\n",
       "    }\n",
       "</style>\n",
       "<table border=\"1\" class=\"dataframe\">\n",
       "  <thead>\n",
       "    <tr style=\"text-align: right;\">\n",
       "      <th></th>\n",
       "      <th>Lon</th>\n",
       "      <th>Lat</th>\n",
       "      <th>Value</th>\n",
       "      <th>Time</th>\n",
       "    </tr>\n",
       "  </thead>\n",
       "  <tbody>\n",
       "    <tr>\n",
       "      <th>0</th>\n",
       "      <td>-1.729647</td>\n",
       "      <td>-1.727246</td>\n",
       "      <td>-1.558152</td>\n",
       "      <td>2019-01-01 00:00:00</td>\n",
       "    </tr>\n",
       "    <tr>\n",
       "      <th>1</th>\n",
       "      <td>-1.724836</td>\n",
       "      <td>-1.727246</td>\n",
       "      <td>-1.558166</td>\n",
       "      <td>2019-01-01 00:00:00</td>\n",
       "    </tr>\n",
       "    <tr>\n",
       "      <th>2</th>\n",
       "      <td>-1.720024</td>\n",
       "      <td>-1.727246</td>\n",
       "      <td>-1.557558</td>\n",
       "      <td>2019-01-01 00:00:00</td>\n",
       "    </tr>\n",
       "    <tr>\n",
       "      <th>3</th>\n",
       "      <td>-1.715213</td>\n",
       "      <td>-1.727246</td>\n",
       "      <td>-1.557551</td>\n",
       "      <td>2019-01-01 00:00:00</td>\n",
       "    </tr>\n",
       "    <tr>\n",
       "      <th>4</th>\n",
       "      <td>-1.710402</td>\n",
       "      <td>-1.727246</td>\n",
       "      <td>-1.556976</td>\n",
       "      <td>2019-01-01 00:00:00</td>\n",
       "    </tr>\n",
       "    <tr>\n",
       "      <th>...</th>\n",
       "      <td>...</td>\n",
       "      <td>...</td>\n",
       "      <td>...</td>\n",
       "      <td>...</td>\n",
       "    </tr>\n",
       "    <tr>\n",
       "      <th>1555195</th>\n",
       "      <td>1.710402</td>\n",
       "      <td>1.727246</td>\n",
       "      <td>-1.496074</td>\n",
       "      <td>2019-01-31 20:00:00</td>\n",
       "    </tr>\n",
       "    <tr>\n",
       "      <th>1555196</th>\n",
       "      <td>1.715213</td>\n",
       "      <td>1.727246</td>\n",
       "      <td>-1.504687</td>\n",
       "      <td>2019-01-31 20:00:00</td>\n",
       "    </tr>\n",
       "    <tr>\n",
       "      <th>1555197</th>\n",
       "      <td>1.720024</td>\n",
       "      <td>1.727246</td>\n",
       "      <td>-1.520775</td>\n",
       "      <td>2019-01-31 20:00:00</td>\n",
       "    </tr>\n",
       "    <tr>\n",
       "      <th>1555198</th>\n",
       "      <td>1.724836</td>\n",
       "      <td>1.727246</td>\n",
       "      <td>-1.514635</td>\n",
       "      <td>2019-01-31 20:00:00</td>\n",
       "    </tr>\n",
       "    <tr>\n",
       "      <th>1555199</th>\n",
       "      <td>1.729647</td>\n",
       "      <td>1.727246</td>\n",
       "      <td>-1.544956</td>\n",
       "      <td>2019-01-31 20:00:00</td>\n",
       "    </tr>\n",
       "  </tbody>\n",
       "</table>\n",
       "<p>1555200 rows × 4 columns</p>\n",
       "</div>"
      ],
      "text/plain": [
       "              Lon       Lat     Value                Time\n",
       "0       -1.729647 -1.727246 -1.558152 2019-01-01 00:00:00\n",
       "1       -1.724836 -1.727246 -1.558166 2019-01-01 00:00:00\n",
       "2       -1.720024 -1.727246 -1.557558 2019-01-01 00:00:00\n",
       "3       -1.715213 -1.727246 -1.557551 2019-01-01 00:00:00\n",
       "4       -1.710402 -1.727246 -1.556976 2019-01-01 00:00:00\n",
       "...           ...       ...       ...                 ...\n",
       "1555195  1.710402  1.727246 -1.496074 2019-01-31 20:00:00\n",
       "1555196  1.715213  1.727246 -1.504687 2019-01-31 20:00:00\n",
       "1555197  1.720024  1.727246 -1.520775 2019-01-31 20:00:00\n",
       "1555198  1.724836  1.727246 -1.514635 2019-01-31 20:00:00\n",
       "1555199  1.729647  1.727246 -1.544956 2019-01-31 20:00:00\n",
       "\n",
       "[1555200 rows x 4 columns]"
      ]
     },
     "execution_count": 62,
     "metadata": {},
     "output_type": "execute_result"
    }
   ],
   "source": [
    "df_final_data"
   ]
  },
  {
   "cell_type": "code",
   "execution_count": 63,
   "id": "1575091e",
   "metadata": {},
   "outputs": [],
   "source": [
    "from sklearn.model_selection import train_test_split"
   ]
  },
  {
   "cell_type": "code",
   "execution_count": 64,
   "id": "e909fed6",
   "metadata": {},
   "outputs": [],
   "source": [
    "train_data, test_data = train_test_split(df_final_data, test_size=0.2, random_state=42)\n",
    "\n",
    "train_file_path = \"../Dataset/climate_dataset/train_data.csv\"\n",
    "test_file_path = \"../Dataset/climate_dataset/test_data.csv\""
   ]
  },
  {
   "cell_type": "code",
   "execution_count": 65,
   "id": "a0b80306",
   "metadata": {},
   "outputs": [],
   "source": [
    "# Convert the DataFrames to CSV files\n",
    "train_data.to_csv(train_file_path, index=False)\n",
    "test_data.to_csv(test_file_path, index=False)"
   ]
  }
 ],
 "metadata": {
  "kernelspec": {
   "display_name": "Python 3 (ipykernel)",
   "language": "python",
   "name": "python3"
  },
  "language_info": {
   "codemirror_mode": {
    "name": "ipython",
    "version": 3
   },
   "file_extension": ".py",
   "mimetype": "text/x-python",
   "name": "python",
   "nbconvert_exporter": "python",
   "pygments_lexer": "ipython3",
   "version": "3.9.6"
  }
 },
 "nbformat": 4,
 "nbformat_minor": 5
}
